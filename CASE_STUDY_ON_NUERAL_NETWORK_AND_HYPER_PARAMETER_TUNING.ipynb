{
  "nbformat": 4,
  "nbformat_minor": 0,
  "metadata": {
    "colab": {
      "provenance": []
    },
    "kernelspec": {
      "name": "python3",
      "display_name": "Python 3"
    },
    "language_info": {
      "name": "python"
    }
  },
  "cells": [
    {
      "cell_type": "markdown",
      "source": [
        "You are provided with a csv file (magic_gamma_telescope04.csv) dataset which contains telescopic experiment data. Using the features given in it, you need to classify the outcome \"class\".<br> • Prepare a model which can classify it with f1 score = 70% and accuracy = 75%.<br> • Use neural networks combined with any HP parameter tuning.<br> • You can make use of any preprocessing activities if needed.<br> • No external data shall be added for increasing evaluation metric values."
      ],
      "metadata": {
        "id": "17AkXqiNo28X"
      }
    },
    {
      "cell_type": "code",
      "source": [
        "#importing required libraries\n",
        "import pandas as pd\n",
        "import numpy as np\n",
        "import seaborn as sns\n",
        "import matplotlib.pyplot as plt\n",
        "import tensorflow as tf\n",
        "\n",
        "import warnings\n",
        "warnings.filterwarnings(\"ignore\")"
      ],
      "metadata": {
        "id": "Qz9YjuVbo3qb"
      },
      "execution_count": 1,
      "outputs": []
    },
    {
      "cell_type": "code",
      "source": [
        "#storing the dataset to a dataframe named 'data'\n",
        "data=pd.read_csv('/content/magic_gamma_telescope04_sample.csv')"
      ],
      "metadata": {
        "id": "c7Aejx23o7U6"
      },
      "execution_count": 2,
      "outputs": []
    },
    {
      "cell_type": "code",
      "source": [
        "#displaying the first few rows\n",
        "data.head()"
      ],
      "metadata": {
        "colab": {
          "base_uri": "https://localhost:8080/",
          "height": 206
        },
        "id": "G3W8-4H6pKNn",
        "outputId": "3f83cbcc-c13d-4055-9f82-fcfabea2af93"
      },
      "execution_count": 3,
      "outputs": [
        {
          "output_type": "execute_result",
          "data": {
            "text/plain": [
              "    flength    fwidth   fsize   fconc  fconc1      fsym  fm3long  fm3trans  \\\n",
              "0   28.7967   16.0021  2.6449  0.3918  0.1982   27.7004  22.0110   -8.2027   \n",
              "1   31.6036   11.7235  2.5185  0.5303  0.3773   26.2722  23.8238   -9.9574   \n",
              "2  162.0520  136.0310  4.0612  0.0374  0.0187  116.7410 -64.8580  -45.2160   \n",
              "3   23.8172    9.5728  2.3385  0.6147  0.3922   27.2107  -6.4633   -7.1513   \n",
              "4   75.1362   30.9205  3.1611  0.3168  0.1832   -5.5277  28.5525   21.8393   \n",
              "\n",
              "    falpha      dist class  \n",
              "0  40.0920   81.8828     g  \n",
              "1   6.3609  205.2610     g  \n",
              "2  76.9600  256.7880     g  \n",
              "3  10.4490  116.7370     g  \n",
              "4   4.6480  356.4620     g  "
            ],
            "text/html": [
              "\n",
              "  <div id=\"df-b969540d-537b-40ea-8ec7-c8aec7cd667b\">\n",
              "    <div class=\"colab-df-container\">\n",
              "      <div>\n",
              "<style scoped>\n",
              "    .dataframe tbody tr th:only-of-type {\n",
              "        vertical-align: middle;\n",
              "    }\n",
              "\n",
              "    .dataframe tbody tr th {\n",
              "        vertical-align: top;\n",
              "    }\n",
              "\n",
              "    .dataframe thead th {\n",
              "        text-align: right;\n",
              "    }\n",
              "</style>\n",
              "<table border=\"1\" class=\"dataframe\">\n",
              "  <thead>\n",
              "    <tr style=\"text-align: right;\">\n",
              "      <th></th>\n",
              "      <th>flength</th>\n",
              "      <th>fwidth</th>\n",
              "      <th>fsize</th>\n",
              "      <th>fconc</th>\n",
              "      <th>fconc1</th>\n",
              "      <th>fsym</th>\n",
              "      <th>fm3long</th>\n",
              "      <th>fm3trans</th>\n",
              "      <th>falpha</th>\n",
              "      <th>dist</th>\n",
              "      <th>class</th>\n",
              "    </tr>\n",
              "  </thead>\n",
              "  <tbody>\n",
              "    <tr>\n",
              "      <th>0</th>\n",
              "      <td>28.7967</td>\n",
              "      <td>16.0021</td>\n",
              "      <td>2.6449</td>\n",
              "      <td>0.3918</td>\n",
              "      <td>0.1982</td>\n",
              "      <td>27.7004</td>\n",
              "      <td>22.0110</td>\n",
              "      <td>-8.2027</td>\n",
              "      <td>40.0920</td>\n",
              "      <td>81.8828</td>\n",
              "      <td>g</td>\n",
              "    </tr>\n",
              "    <tr>\n",
              "      <th>1</th>\n",
              "      <td>31.6036</td>\n",
              "      <td>11.7235</td>\n",
              "      <td>2.5185</td>\n",
              "      <td>0.5303</td>\n",
              "      <td>0.3773</td>\n",
              "      <td>26.2722</td>\n",
              "      <td>23.8238</td>\n",
              "      <td>-9.9574</td>\n",
              "      <td>6.3609</td>\n",
              "      <td>205.2610</td>\n",
              "      <td>g</td>\n",
              "    </tr>\n",
              "    <tr>\n",
              "      <th>2</th>\n",
              "      <td>162.0520</td>\n",
              "      <td>136.0310</td>\n",
              "      <td>4.0612</td>\n",
              "      <td>0.0374</td>\n",
              "      <td>0.0187</td>\n",
              "      <td>116.7410</td>\n",
              "      <td>-64.8580</td>\n",
              "      <td>-45.2160</td>\n",
              "      <td>76.9600</td>\n",
              "      <td>256.7880</td>\n",
              "      <td>g</td>\n",
              "    </tr>\n",
              "    <tr>\n",
              "      <th>3</th>\n",
              "      <td>23.8172</td>\n",
              "      <td>9.5728</td>\n",
              "      <td>2.3385</td>\n",
              "      <td>0.6147</td>\n",
              "      <td>0.3922</td>\n",
              "      <td>27.2107</td>\n",
              "      <td>-6.4633</td>\n",
              "      <td>-7.1513</td>\n",
              "      <td>10.4490</td>\n",
              "      <td>116.7370</td>\n",
              "      <td>g</td>\n",
              "    </tr>\n",
              "    <tr>\n",
              "      <th>4</th>\n",
              "      <td>75.1362</td>\n",
              "      <td>30.9205</td>\n",
              "      <td>3.1611</td>\n",
              "      <td>0.3168</td>\n",
              "      <td>0.1832</td>\n",
              "      <td>-5.5277</td>\n",
              "      <td>28.5525</td>\n",
              "      <td>21.8393</td>\n",
              "      <td>4.6480</td>\n",
              "      <td>356.4620</td>\n",
              "      <td>g</td>\n",
              "    </tr>\n",
              "  </tbody>\n",
              "</table>\n",
              "</div>\n",
              "      <button class=\"colab-df-convert\" onclick=\"convertToInteractive('df-b969540d-537b-40ea-8ec7-c8aec7cd667b')\"\n",
              "              title=\"Convert this dataframe to an interactive table.\"\n",
              "              style=\"display:none;\">\n",
              "        \n",
              "  <svg xmlns=\"http://www.w3.org/2000/svg\" height=\"24px\"viewBox=\"0 0 24 24\"\n",
              "       width=\"24px\">\n",
              "    <path d=\"M0 0h24v24H0V0z\" fill=\"none\"/>\n",
              "    <path d=\"M18.56 5.44l.94 2.06.94-2.06 2.06-.94-2.06-.94-.94-2.06-.94 2.06-2.06.94zm-11 1L8.5 8.5l.94-2.06 2.06-.94-2.06-.94L8.5 2.5l-.94 2.06-2.06.94zm10 10l.94 2.06.94-2.06 2.06-.94-2.06-.94-.94-2.06-.94 2.06-2.06.94z\"/><path d=\"M17.41 7.96l-1.37-1.37c-.4-.4-.92-.59-1.43-.59-.52 0-1.04.2-1.43.59L10.3 9.45l-7.72 7.72c-.78.78-.78 2.05 0 2.83L4 21.41c.39.39.9.59 1.41.59.51 0 1.02-.2 1.41-.59l7.78-7.78 2.81-2.81c.8-.78.8-2.07 0-2.86zM5.41 20L4 18.59l7.72-7.72 1.47 1.35L5.41 20z\"/>\n",
              "  </svg>\n",
              "      </button>\n",
              "      \n",
              "  <style>\n",
              "    .colab-df-container {\n",
              "      display:flex;\n",
              "      flex-wrap:wrap;\n",
              "      gap: 12px;\n",
              "    }\n",
              "\n",
              "    .colab-df-convert {\n",
              "      background-color: #E8F0FE;\n",
              "      border: none;\n",
              "      border-radius: 50%;\n",
              "      cursor: pointer;\n",
              "      display: none;\n",
              "      fill: #1967D2;\n",
              "      height: 32px;\n",
              "      padding: 0 0 0 0;\n",
              "      width: 32px;\n",
              "    }\n",
              "\n",
              "    .colab-df-convert:hover {\n",
              "      background-color: #E2EBFA;\n",
              "      box-shadow: 0px 1px 2px rgba(60, 64, 67, 0.3), 0px 1px 3px 1px rgba(60, 64, 67, 0.15);\n",
              "      fill: #174EA6;\n",
              "    }\n",
              "\n",
              "    [theme=dark] .colab-df-convert {\n",
              "      background-color: #3B4455;\n",
              "      fill: #D2E3FC;\n",
              "    }\n",
              "\n",
              "    [theme=dark] .colab-df-convert:hover {\n",
              "      background-color: #434B5C;\n",
              "      box-shadow: 0px 1px 3px 1px rgba(0, 0, 0, 0.15);\n",
              "      filter: drop-shadow(0px 1px 2px rgba(0, 0, 0, 0.3));\n",
              "      fill: #FFFFFF;\n",
              "    }\n",
              "  </style>\n",
              "\n",
              "      <script>\n",
              "        const buttonEl =\n",
              "          document.querySelector('#df-b969540d-537b-40ea-8ec7-c8aec7cd667b button.colab-df-convert');\n",
              "        buttonEl.style.display =\n",
              "          google.colab.kernel.accessAllowed ? 'block' : 'none';\n",
              "\n",
              "        async function convertToInteractive(key) {\n",
              "          const element = document.querySelector('#df-b969540d-537b-40ea-8ec7-c8aec7cd667b');\n",
              "          const dataTable =\n",
              "            await google.colab.kernel.invokeFunction('convertToInteractive',\n",
              "                                                     [key], {});\n",
              "          if (!dataTable) return;\n",
              "\n",
              "          const docLinkHtml = 'Like what you see? Visit the ' +\n",
              "            '<a target=\"_blank\" href=https://colab.research.google.com/notebooks/data_table.ipynb>data table notebook</a>'\n",
              "            + ' to learn more about interactive tables.';\n",
              "          element.innerHTML = '';\n",
              "          dataTable['output_type'] = 'display_data';\n",
              "          await google.colab.output.renderOutput(dataTable, element);\n",
              "          const docLink = document.createElement('div');\n",
              "          docLink.innerHTML = docLinkHtml;\n",
              "          element.appendChild(docLink);\n",
              "        }\n",
              "      </script>\n",
              "    </div>\n",
              "  </div>\n",
              "  "
            ]
          },
          "metadata": {},
          "execution_count": 3
        }
      ]
    },
    {
      "cell_type": "code",
      "source": [
        "data.shape"
      ],
      "metadata": {
        "colab": {
          "base_uri": "https://localhost:8080/"
        },
        "id": "VPjUrPHGw4QQ",
        "outputId": "70420e2e-1a5a-4138-a937-2388d2f3a5ae"
      },
      "execution_count": 4,
      "outputs": [
        {
          "output_type": "execute_result",
          "data": {
            "text/plain": [
              "(4287, 11)"
            ]
          },
          "metadata": {},
          "execution_count": 4
        }
      ]
    },
    {
      "cell_type": "markdown",
      "source": [
        "There are 4287 observations and 11 features in the dataset."
      ],
      "metadata": {
        "id": "tiwTtn_fw_lB"
      }
    },
    {
      "cell_type": "code",
      "source": [
        "data.info()"
      ],
      "metadata": {
        "colab": {
          "base_uri": "https://localhost:8080/"
        },
        "id": "2-6JkfxFw8wi",
        "outputId": "22e67f28-9f50-4983-f92a-b3fec826bd7a"
      },
      "execution_count": 5,
      "outputs": [
        {
          "output_type": "stream",
          "name": "stdout",
          "text": [
            "<class 'pandas.core.frame.DataFrame'>\n",
            "RangeIndex: 4287 entries, 0 to 4286\n",
            "Data columns (total 11 columns):\n",
            " #   Column    Non-Null Count  Dtype  \n",
            "---  ------    --------------  -----  \n",
            " 0   flength   4287 non-null   float64\n",
            " 1   fwidth    4287 non-null   float64\n",
            " 2   fsize     4287 non-null   float64\n",
            " 3   fconc     4287 non-null   float64\n",
            " 4   fconc1    4287 non-null   float64\n",
            " 5   fsym      4287 non-null   float64\n",
            " 6   fm3long   4287 non-null   float64\n",
            " 7   fm3trans  4287 non-null   float64\n",
            " 8   falpha    4287 non-null   float64\n",
            " 9   dist      4287 non-null   float64\n",
            " 10  class     4287 non-null   object \n",
            "dtypes: float64(10), object(1)\n",
            "memory usage: 368.5+ KB\n"
          ]
        }
      ]
    },
    {
      "cell_type": "code",
      "source": [
        "#to check for null values\n",
        "data.isna().sum()"
      ],
      "metadata": {
        "colab": {
          "base_uri": "https://localhost:8080/"
        },
        "id": "J--ZbQrcxEDr",
        "outputId": "0e88f9dc-bce1-4ba7-befa-bc66197744f2"
      },
      "execution_count": 6,
      "outputs": [
        {
          "output_type": "execute_result",
          "data": {
            "text/plain": [
              "flength     0\n",
              "fwidth      0\n",
              "fsize       0\n",
              "fconc       0\n",
              "fconc1      0\n",
              "fsym        0\n",
              "fm3long     0\n",
              "fm3trans    0\n",
              "falpha      0\n",
              "dist        0\n",
              "class       0\n",
              "dtype: int64"
            ]
          },
          "metadata": {},
          "execution_count": 6
        }
      ]
    },
    {
      "cell_type": "markdown",
      "source": [
        "There are no null values in the dataframe."
      ],
      "metadata": {
        "id": "0gzY1ANWxOqs"
      }
    },
    {
      "cell_type": "code",
      "source": [
        "#descriptive statistics\n",
        "data.describe()"
      ],
      "metadata": {
        "colab": {
          "base_uri": "https://localhost:8080/",
          "height": 300
        },
        "id": "8t7HVI3cxI9n",
        "outputId": "b1870e11-5293-473e-8fef-0db3a7b1e541"
      },
      "execution_count": 7,
      "outputs": [
        {
          "output_type": "execute_result",
          "data": {
            "text/plain": [
              "           flength       fwidth        fsize        fconc       fconc1  \\\n",
              "count  4287.000000  4287.000000  4287.000000  4287.000000  4287.000000   \n",
              "mean     57.716420    24.135054     2.849275     0.375352     0.212399   \n",
              "std      47.897591    21.823325     0.472802     0.181586     0.110284   \n",
              "min       7.360600     0.000000     1.991600     0.013100     0.000300   \n",
              "25%      24.587650    11.904000     2.501100     0.232650     0.126450   \n",
              "50%      38.875400    17.389500     2.757400     0.352600     0.196000   \n",
              "75%      75.201750    26.154050     3.131400     0.503000     0.285400   \n",
              "max     334.177000   256.382000     5.323300     0.893000     0.628300   \n",
              "\n",
              "              fsym      fm3long     fm3trans       falpha         dist  \n",
              "count  4287.000000  4287.000000  4287.000000  4287.000000  4287.000000  \n",
              "mean     -8.742164     7.314128     0.642312    31.757071   195.702966  \n",
              "std      66.928938    56.577545    24.176600    27.188376    76.210147  \n",
              "min    -382.594000  -318.300200  -205.894700     0.000000     5.745600  \n",
              "25%     -25.685900   -15.003250   -10.895600     7.439800   142.827500  \n",
              "50%       1.845800    14.907700     1.910700    23.821000   193.740000  \n",
              "75%      23.421500    34.763650    11.382700    53.004700   242.893700  \n",
              "max     575.240700   238.321000   179.851000    90.000000   450.953000  "
            ],
            "text/html": [
              "\n",
              "  <div id=\"df-0e87a2c3-6110-47b2-aa1f-637332430be0\">\n",
              "    <div class=\"colab-df-container\">\n",
              "      <div>\n",
              "<style scoped>\n",
              "    .dataframe tbody tr th:only-of-type {\n",
              "        vertical-align: middle;\n",
              "    }\n",
              "\n",
              "    .dataframe tbody tr th {\n",
              "        vertical-align: top;\n",
              "    }\n",
              "\n",
              "    .dataframe thead th {\n",
              "        text-align: right;\n",
              "    }\n",
              "</style>\n",
              "<table border=\"1\" class=\"dataframe\">\n",
              "  <thead>\n",
              "    <tr style=\"text-align: right;\">\n",
              "      <th></th>\n",
              "      <th>flength</th>\n",
              "      <th>fwidth</th>\n",
              "      <th>fsize</th>\n",
              "      <th>fconc</th>\n",
              "      <th>fconc1</th>\n",
              "      <th>fsym</th>\n",
              "      <th>fm3long</th>\n",
              "      <th>fm3trans</th>\n",
              "      <th>falpha</th>\n",
              "      <th>dist</th>\n",
              "    </tr>\n",
              "  </thead>\n",
              "  <tbody>\n",
              "    <tr>\n",
              "      <th>count</th>\n",
              "      <td>4287.000000</td>\n",
              "      <td>4287.000000</td>\n",
              "      <td>4287.000000</td>\n",
              "      <td>4287.000000</td>\n",
              "      <td>4287.000000</td>\n",
              "      <td>4287.000000</td>\n",
              "      <td>4287.000000</td>\n",
              "      <td>4287.000000</td>\n",
              "      <td>4287.000000</td>\n",
              "      <td>4287.000000</td>\n",
              "    </tr>\n",
              "    <tr>\n",
              "      <th>mean</th>\n",
              "      <td>57.716420</td>\n",
              "      <td>24.135054</td>\n",
              "      <td>2.849275</td>\n",
              "      <td>0.375352</td>\n",
              "      <td>0.212399</td>\n",
              "      <td>-8.742164</td>\n",
              "      <td>7.314128</td>\n",
              "      <td>0.642312</td>\n",
              "      <td>31.757071</td>\n",
              "      <td>195.702966</td>\n",
              "    </tr>\n",
              "    <tr>\n",
              "      <th>std</th>\n",
              "      <td>47.897591</td>\n",
              "      <td>21.823325</td>\n",
              "      <td>0.472802</td>\n",
              "      <td>0.181586</td>\n",
              "      <td>0.110284</td>\n",
              "      <td>66.928938</td>\n",
              "      <td>56.577545</td>\n",
              "      <td>24.176600</td>\n",
              "      <td>27.188376</td>\n",
              "      <td>76.210147</td>\n",
              "    </tr>\n",
              "    <tr>\n",
              "      <th>min</th>\n",
              "      <td>7.360600</td>\n",
              "      <td>0.000000</td>\n",
              "      <td>1.991600</td>\n",
              "      <td>0.013100</td>\n",
              "      <td>0.000300</td>\n",
              "      <td>-382.594000</td>\n",
              "      <td>-318.300200</td>\n",
              "      <td>-205.894700</td>\n",
              "      <td>0.000000</td>\n",
              "      <td>5.745600</td>\n",
              "    </tr>\n",
              "    <tr>\n",
              "      <th>25%</th>\n",
              "      <td>24.587650</td>\n",
              "      <td>11.904000</td>\n",
              "      <td>2.501100</td>\n",
              "      <td>0.232650</td>\n",
              "      <td>0.126450</td>\n",
              "      <td>-25.685900</td>\n",
              "      <td>-15.003250</td>\n",
              "      <td>-10.895600</td>\n",
              "      <td>7.439800</td>\n",
              "      <td>142.827500</td>\n",
              "    </tr>\n",
              "    <tr>\n",
              "      <th>50%</th>\n",
              "      <td>38.875400</td>\n",
              "      <td>17.389500</td>\n",
              "      <td>2.757400</td>\n",
              "      <td>0.352600</td>\n",
              "      <td>0.196000</td>\n",
              "      <td>1.845800</td>\n",
              "      <td>14.907700</td>\n",
              "      <td>1.910700</td>\n",
              "      <td>23.821000</td>\n",
              "      <td>193.740000</td>\n",
              "    </tr>\n",
              "    <tr>\n",
              "      <th>75%</th>\n",
              "      <td>75.201750</td>\n",
              "      <td>26.154050</td>\n",
              "      <td>3.131400</td>\n",
              "      <td>0.503000</td>\n",
              "      <td>0.285400</td>\n",
              "      <td>23.421500</td>\n",
              "      <td>34.763650</td>\n",
              "      <td>11.382700</td>\n",
              "      <td>53.004700</td>\n",
              "      <td>242.893700</td>\n",
              "    </tr>\n",
              "    <tr>\n",
              "      <th>max</th>\n",
              "      <td>334.177000</td>\n",
              "      <td>256.382000</td>\n",
              "      <td>5.323300</td>\n",
              "      <td>0.893000</td>\n",
              "      <td>0.628300</td>\n",
              "      <td>575.240700</td>\n",
              "      <td>238.321000</td>\n",
              "      <td>179.851000</td>\n",
              "      <td>90.000000</td>\n",
              "      <td>450.953000</td>\n",
              "    </tr>\n",
              "  </tbody>\n",
              "</table>\n",
              "</div>\n",
              "      <button class=\"colab-df-convert\" onclick=\"convertToInteractive('df-0e87a2c3-6110-47b2-aa1f-637332430be0')\"\n",
              "              title=\"Convert this dataframe to an interactive table.\"\n",
              "              style=\"display:none;\">\n",
              "        \n",
              "  <svg xmlns=\"http://www.w3.org/2000/svg\" height=\"24px\"viewBox=\"0 0 24 24\"\n",
              "       width=\"24px\">\n",
              "    <path d=\"M0 0h24v24H0V0z\" fill=\"none\"/>\n",
              "    <path d=\"M18.56 5.44l.94 2.06.94-2.06 2.06-.94-2.06-.94-.94-2.06-.94 2.06-2.06.94zm-11 1L8.5 8.5l.94-2.06 2.06-.94-2.06-.94L8.5 2.5l-.94 2.06-2.06.94zm10 10l.94 2.06.94-2.06 2.06-.94-2.06-.94-.94-2.06-.94 2.06-2.06.94z\"/><path d=\"M17.41 7.96l-1.37-1.37c-.4-.4-.92-.59-1.43-.59-.52 0-1.04.2-1.43.59L10.3 9.45l-7.72 7.72c-.78.78-.78 2.05 0 2.83L4 21.41c.39.39.9.59 1.41.59.51 0 1.02-.2 1.41-.59l7.78-7.78 2.81-2.81c.8-.78.8-2.07 0-2.86zM5.41 20L4 18.59l7.72-7.72 1.47 1.35L5.41 20z\"/>\n",
              "  </svg>\n",
              "      </button>\n",
              "      \n",
              "  <style>\n",
              "    .colab-df-container {\n",
              "      display:flex;\n",
              "      flex-wrap:wrap;\n",
              "      gap: 12px;\n",
              "    }\n",
              "\n",
              "    .colab-df-convert {\n",
              "      background-color: #E8F0FE;\n",
              "      border: none;\n",
              "      border-radius: 50%;\n",
              "      cursor: pointer;\n",
              "      display: none;\n",
              "      fill: #1967D2;\n",
              "      height: 32px;\n",
              "      padding: 0 0 0 0;\n",
              "      width: 32px;\n",
              "    }\n",
              "\n",
              "    .colab-df-convert:hover {\n",
              "      background-color: #E2EBFA;\n",
              "      box-shadow: 0px 1px 2px rgba(60, 64, 67, 0.3), 0px 1px 3px 1px rgba(60, 64, 67, 0.15);\n",
              "      fill: #174EA6;\n",
              "    }\n",
              "\n",
              "    [theme=dark] .colab-df-convert {\n",
              "      background-color: #3B4455;\n",
              "      fill: #D2E3FC;\n",
              "    }\n",
              "\n",
              "    [theme=dark] .colab-df-convert:hover {\n",
              "      background-color: #434B5C;\n",
              "      box-shadow: 0px 1px 3px 1px rgba(0, 0, 0, 0.15);\n",
              "      filter: drop-shadow(0px 1px 2px rgba(0, 0, 0, 0.3));\n",
              "      fill: #FFFFFF;\n",
              "    }\n",
              "  </style>\n",
              "\n",
              "      <script>\n",
              "        const buttonEl =\n",
              "          document.querySelector('#df-0e87a2c3-6110-47b2-aa1f-637332430be0 button.colab-df-convert');\n",
              "        buttonEl.style.display =\n",
              "          google.colab.kernel.accessAllowed ? 'block' : 'none';\n",
              "\n",
              "        async function convertToInteractive(key) {\n",
              "          const element = document.querySelector('#df-0e87a2c3-6110-47b2-aa1f-637332430be0');\n",
              "          const dataTable =\n",
              "            await google.colab.kernel.invokeFunction('convertToInteractive',\n",
              "                                                     [key], {});\n",
              "          if (!dataTable) return;\n",
              "\n",
              "          const docLinkHtml = 'Like what you see? Visit the ' +\n",
              "            '<a target=\"_blank\" href=https://colab.research.google.com/notebooks/data_table.ipynb>data table notebook</a>'\n",
              "            + ' to learn more about interactive tables.';\n",
              "          element.innerHTML = '';\n",
              "          dataTable['output_type'] = 'display_data';\n",
              "          await google.colab.output.renderOutput(dataTable, element);\n",
              "          const docLink = document.createElement('div');\n",
              "          docLink.innerHTML = docLinkHtml;\n",
              "          element.appendChild(docLink);\n",
              "        }\n",
              "      </script>\n",
              "    </div>\n",
              "  </div>\n",
              "  "
            ]
          },
          "metadata": {},
          "execution_count": 7
        }
      ]
    },
    {
      "cell_type": "code",
      "source": [
        "data['class'].value_counts()"
      ],
      "metadata": {
        "colab": {
          "base_uri": "https://localhost:8080/"
        },
        "id": "frepSE3UxR2E",
        "outputId": "14768518-f5fa-435c-b651-4a8eb301e67a"
      },
      "execution_count": 8,
      "outputs": [
        {
          "output_type": "execute_result",
          "data": {
            "text/plain": [
              "g    2183\n",
              "h    2104\n",
              "Name: class, dtype: int64"
            ]
          },
          "metadata": {},
          "execution_count": 8
        }
      ]
    },
    {
      "cell_type": "markdown",
      "source": [
        "1. Preprocessing"
      ],
      "metadata": {
        "id": "aBZ2cwRHxhTC"
      }
    },
    {
      "cell_type": "markdown",
      "source": [
        "1.1 Feature Reduction"
      ],
      "metadata": {
        "id": "hXHaId8pxqIp"
      }
    },
    {
      "cell_type": "code",
      "source": [
        "plt.figure(figsize=(20,10))\n",
        "sns.heatmap(data.corr(),cmap='YlGnBu',annot=True,vmax=1,vmin=-1)\n",
        "plt.show()"
      ],
      "metadata": {
        "colab": {
          "base_uri": "https://localhost:8080/",
          "height": 596
        },
        "id": "UAunQyzUxZxg",
        "outputId": "e8606fed-5dd3-46ba-88ce-a74ef039f65d"
      },
      "execution_count": 9,
      "outputs": [
        {
          "output_type": "display_data",
          "data": {
            "text/plain": [
              "<Figure size 1440x720 with 2 Axes>"
            ],
            "image/png": "[encoded data removed]"
          },
          "metadata": {
            "needs_background": "light"
          }
        }
      ]
    },
    {
      "cell_type": "markdown",
      "source": [
        "The features 'fsize' and 'fconc' have high negative correlation. <br>The features 'fconc' and 'fconc1' have high negative correlation. <br>So, dropping these features from the model."
      ],
      "metadata": {
        "id": "3sgWA7g5z9tr"
      }
    },
    {
      "cell_type": "code",
      "source": [
        "data.drop(['fsize','fconc1'],axis=1,inplace=True)"
      ],
      "metadata": {
        "id": "_HDbq15CxxfX"
      },
      "execution_count": 10,
      "outputs": []
    },
    {
      "cell_type": "markdown",
      "source": [
        "1.2 Feature Scaling"
      ],
      "metadata": {
        "id": "PTwAWrpl1Dbt"
      }
    },
    {
      "cell_type": "code",
      "source": [
        "#dependent variable is stored in y\n",
        "y=data['class'].map({'g':0,'h':1})\n",
        "#independent variable is stored in x\n",
        "x=data.drop(['class'],axis=1) \n",
        "x.describe()"
      ],
      "metadata": {
        "colab": {
          "base_uri": "https://localhost:8080/",
          "height": 300
        },
        "id": "7w1RfL3801qm",
        "outputId": "9b9277cf-1fe4-43a3-8443-bf99c46a6989"
      },
      "execution_count": 11,
      "outputs": [
        {
          "output_type": "execute_result",
          "data": {
            "text/plain": [
              "           flength       fwidth        fconc         fsym      fm3long  \\\n",
              "count  4287.000000  4287.000000  4287.000000  4287.000000  4287.000000   \n",
              "mean     57.716420    24.135054     0.375352    -8.742164     7.314128   \n",
              "std      47.897591    21.823325     0.181586    66.928938    56.577545   \n",
              "min       7.360600     0.000000     0.013100  -382.594000  -318.300200   \n",
              "25%      24.587650    11.904000     0.232650   -25.685900   -15.003250   \n",
              "50%      38.875400    17.389500     0.352600     1.845800    14.907700   \n",
              "75%      75.201750    26.154050     0.503000    23.421500    34.763650   \n",
              "max     334.177000   256.382000     0.893000   575.240700   238.321000   \n",
              "\n",
              "          fm3trans       falpha         dist  \n",
              "count  4287.000000  4287.000000  4287.000000  \n",
              "mean      0.642312    31.757071   195.702966  \n",
              "std      24.176600    27.188376    76.210147  \n",
              "min    -205.894700     0.000000     5.745600  \n",
              "25%     -10.895600     7.439800   142.827500  \n",
              "50%       1.910700    23.821000   193.740000  \n",
              "75%      11.382700    53.004700   242.893700  \n",
              "max     179.851000    90.000000   450.953000  "
            ],
            "text/html": [
              "\n",
              "  <div id=\"df-1c02d5b8-568c-4a03-a17e-d3a2920533fb\">\n",
              "    <div class=\"colab-df-container\">\n",
              "      <div>\n",
              "<style scoped>\n",
              "    .dataframe tbody tr th:only-of-type {\n",
              "        vertical-align: middle;\n",
              "    }\n",
              "\n",
              "    .dataframe tbody tr th {\n",
              "        vertical-align: top;\n",
              "    }\n",
              "\n",
              "    .dataframe thead th {\n",
              "        text-align: right;\n",
              "    }\n",
              "</style>\n",
              "<table border=\"1\" class=\"dataframe\">\n",
              "  <thead>\n",
              "    <tr style=\"text-align: right;\">\n",
              "      <th></th>\n",
              "      <th>flength</th>\n",
              "      <th>fwidth</th>\n",
              "      <th>fconc</th>\n",
              "      <th>fsym</th>\n",
              "      <th>fm3long</th>\n",
              "      <th>fm3trans</th>\n",
              "      <th>falpha</th>\n",
              "      <th>dist</th>\n",
              "    </tr>\n",
              "  </thead>\n",
              "  <tbody>\n",
              "    <tr>\n",
              "      <th>count</th>\n",
              "      <td>4287.000000</td>\n",
              "      <td>4287.000000</td>\n",
              "      <td>4287.000000</td>\n",
              "      <td>4287.000000</td>\n",
              "      <td>4287.000000</td>\n",
              "      <td>4287.000000</td>\n",
              "      <td>4287.000000</td>\n",
              "      <td>4287.000000</td>\n",
              "    </tr>\n",
              "    <tr>\n",
              "      <th>mean</th>\n",
              "      <td>57.716420</td>\n",
              "      <td>24.135054</td>\n",
              "      <td>0.375352</td>\n",
              "      <td>-8.742164</td>\n",
              "      <td>7.314128</td>\n",
              "      <td>0.642312</td>\n",
              "      <td>31.757071</td>\n",
              "      <td>195.702966</td>\n",
              "    </tr>\n",
              "    <tr>\n",
              "      <th>std</th>\n",
              "      <td>47.897591</td>\n",
              "      <td>21.823325</td>\n",
              "      <td>0.181586</td>\n",
              "      <td>66.928938</td>\n",
              "      <td>56.577545</td>\n",
              "      <td>24.176600</td>\n",
              "      <td>27.188376</td>\n",
              "      <td>76.210147</td>\n",
              "    </tr>\n",
              "    <tr>\n",
              "      <th>min</th>\n",
              "      <td>7.360600</td>\n",
              "      <td>0.000000</td>\n",
              "      <td>0.013100</td>\n",
              "      <td>-382.594000</td>\n",
              "      <td>-318.300200</td>\n",
              "      <td>-205.894700</td>\n",
              "      <td>0.000000</td>\n",
              "      <td>5.745600</td>\n",
              "    </tr>\n",
              "    <tr>\n",
              "      <th>25%</th>\n",
              "      <td>24.587650</td>\n",
              "      <td>11.904000</td>\n",
              "      <td>0.232650</td>\n",
              "      <td>-25.685900</td>\n",
              "      <td>-15.003250</td>\n",
              "      <td>-10.895600</td>\n",
              "      <td>7.439800</td>\n",
              "      <td>142.827500</td>\n",
              "    </tr>\n",
              "    <tr>\n",
              "      <th>50%</th>\n",
              "      <td>38.875400</td>\n",
              "      <td>17.389500</td>\n",
              "      <td>0.352600</td>\n",
              "      <td>1.845800</td>\n",
              "      <td>14.907700</td>\n",
              "      <td>1.910700</td>\n",
              "      <td>23.821000</td>\n",
              "      <td>193.740000</td>\n",
              "    </tr>\n",
              "    <tr>\n",
              "      <th>75%</th>\n",
              "      <td>75.201750</td>\n",
              "      <td>26.154050</td>\n",
              "      <td>0.503000</td>\n",
              "      <td>23.421500</td>\n",
              "      <td>34.763650</td>\n",
              "      <td>11.382700</td>\n",
              "      <td>53.004700</td>\n",
              "      <td>242.893700</td>\n",
              "    </tr>\n",
              "    <tr>\n",
              "      <th>max</th>\n",
              "      <td>334.177000</td>\n",
              "      <td>256.382000</td>\n",
              "      <td>0.893000</td>\n",
              "      <td>575.240700</td>\n",
              "      <td>238.321000</td>\n",
              "      <td>179.851000</td>\n",
              "      <td>90.000000</td>\n",
              "      <td>450.953000</td>\n",
              "    </tr>\n",
              "  </tbody>\n",
              "</table>\n",
              "</div>\n",
              "      <button class=\"colab-df-convert\" onclick=\"convertToInteractive('df-1c02d5b8-568c-4a03-a17e-d3a2920533fb')\"\n",
              "              title=\"Convert this dataframe to an interactive table.\"\n",
              "              style=\"display:none;\">\n",
              "        \n",
              "  <svg xmlns=\"http://www.w3.org/2000/svg\" height=\"24px\"viewBox=\"0 0 24 24\"\n",
              "       width=\"24px\">\n",
              "    <path d=\"M0 0h24v24H0V0z\" fill=\"none\"/>\n",
              "    <path d=\"M18.56 5.44l.94 2.06.94-2.06 2.06-.94-2.06-.94-.94-2.06-.94 2.06-2.06.94zm-11 1L8.5 8.5l.94-2.06 2.06-.94-2.06-.94L8.5 2.5l-.94 2.06-2.06.94zm10 10l.94 2.06.94-2.06 2.06-.94-2.06-.94-.94-2.06-.94 2.06-2.06.94z\"/><path d=\"M17.41 7.96l-1.37-1.37c-.4-.4-.92-.59-1.43-.59-.52 0-1.04.2-1.43.59L10.3 9.45l-7.72 7.72c-.78.78-.78 2.05 0 2.83L4 21.41c.39.39.9.59 1.41.59.51 0 1.02-.2 1.41-.59l7.78-7.78 2.81-2.81c.8-.78.8-2.07 0-2.86zM5.41 20L4 18.59l7.72-7.72 1.47 1.35L5.41 20z\"/>\n",
              "  </svg>\n",
              "      </button>\n",
              "      \n",
              "  <style>\n",
              "    .colab-df-container {\n",
              "      display:flex;\n",
              "      flex-wrap:wrap;\n",
              "      gap: 12px;\n",
              "    }\n",
              "\n",
              "    .colab-df-convert {\n",
              "      background-color: #E8F0FE;\n",
              "      border: none;\n",
              "      border-radius: 50%;\n",
              "      cursor: pointer;\n",
              "      display: none;\n",
              "      fill: #1967D2;\n",
              "      height: 32px;\n",
              "      padding: 0 0 0 0;\n",
              "      width: 32px;\n",
              "    }\n",
              "\n",
              "    .colab-df-convert:hover {\n",
              "      background-color: #E2EBFA;\n",
              "      box-shadow: 0px 1px 2px rgba(60, 64, 67, 0.3), 0px 1px 3px 1px rgba(60, 64, 67, 0.15);\n",
              "      fill: #174EA6;\n",
              "    }\n",
              "\n",
              "    [theme=dark] .colab-df-convert {\n",
              "      background-color: #3B4455;\n",
              "      fill: #D2E3FC;\n",
              "    }\n",
              "\n",
              "    [theme=dark] .colab-df-convert:hover {\n",
              "      background-color: #434B5C;\n",
              "      box-shadow: 0px 1px 3px 1px rgba(0, 0, 0, 0.15);\n",
              "      filter: drop-shadow(0px 1px 2px rgba(0, 0, 0, 0.3));\n",
              "      fill: #FFFFFF;\n",
              "    }\n",
              "  </style>\n",
              "\n",
              "      <script>\n",
              "        const buttonEl =\n",
              "          document.querySelector('#df-1c02d5b8-568c-4a03-a17e-d3a2920533fb button.colab-df-convert');\n",
              "        buttonEl.style.display =\n",
              "          google.colab.kernel.accessAllowed ? 'block' : 'none';\n",
              "\n",
              "        async function convertToInteractive(key) {\n",
              "          const element = document.querySelector('#df-1c02d5b8-568c-4a03-a17e-d3a2920533fb');\n",
              "          const dataTable =\n",
              "            await google.colab.kernel.invokeFunction('convertToInteractive',\n",
              "                                                     [key], {});\n",
              "          if (!dataTable) return;\n",
              "\n",
              "          const docLinkHtml = 'Like what you see? Visit the ' +\n",
              "            '<a target=\"_blank\" href=https://colab.research.google.com/notebooks/data_table.ipynb>data table notebook</a>'\n",
              "            + ' to learn more about interactive tables.';\n",
              "          element.innerHTML = '';\n",
              "          dataTable['output_type'] = 'display_data';\n",
              "          await google.colab.output.renderOutput(dataTable, element);\n",
              "          const docLink = document.createElement('div');\n",
              "          docLink.innerHTML = docLinkHtml;\n",
              "          element.appendChild(docLink);\n",
              "        }\n",
              "      </script>\n",
              "    </div>\n",
              "  </div>\n",
              "  "
            ]
          },
          "metadata": {},
          "execution_count": 11
        }
      ]
    },
    {
      "cell_type": "code",
      "source": [
        "#min max scaling\n",
        "from sklearn import preprocessing\n",
        "min_max=preprocessing.MinMaxScaler()\n",
        "x=min_max.fit_transform(x)\n",
        "x=pd.DataFrame(x)\n",
        "x.describe()"
      ],
      "metadata": {
        "colab": {
          "base_uri": "https://localhost:8080/",
          "height": 300
        },
        "id": "AlbcWYiU1JdK",
        "outputId": "9677fb2a-44b4-40ec-f082-d5bf6304fe04"
      },
      "execution_count": 12,
      "outputs": [
        {
          "output_type": "execute_result",
          "data": {
            "text/plain": [
              "                 0            1            2            3            4  \\\n",
              "count  4287.000000  4287.000000  4287.000000  4287.000000  4287.000000   \n",
              "mean      0.154080     0.094137     0.411697     0.390309     0.584984   \n",
              "std       0.146558     0.085120     0.206371     0.069875     0.101645   \n",
              "min       0.000000     0.000000     0.000000     0.000000     0.000000   \n",
              "25%       0.052712     0.046431     0.249517     0.372620     0.544889   \n",
              "50%       0.096430     0.067827     0.385839     0.401363     0.598626   \n",
              "75%       0.207582     0.102012     0.556768     0.423889     0.634298   \n",
              "max       1.000000     1.000000     1.000000     1.000000     1.000000   \n",
              "\n",
              "                 5            6            7  \n",
              "count  4287.000000  4287.000000  4287.000000  \n",
              "mean      0.535423     0.352856     0.426672  \n",
              "std       0.062675     0.302093     0.171179  \n",
              "min       0.000000     0.000000     0.000000  \n",
              "25%       0.505512     0.082664     0.307906  \n",
              "50%       0.538711     0.264678     0.422263  \n",
              "75%       0.563266     0.588941     0.532669  \n",
              "max       1.000000     1.000000     1.000000  "
            ],
            "text/html": [
              "\n",
              "  <div id=\"df-50a4ad59-3585-4623-af9e-7f0b8b97468b\">\n",
              "    <div class=\"colab-df-container\">\n",
              "      <div>\n",
              "<style scoped>\n",
              "    .dataframe tbody tr th:only-of-type {\n",
              "        vertical-align: middle;\n",
              "    }\n",
              "\n",
              "    .dataframe tbody tr th {\n",
              "        vertical-align: top;\n",
              "    }\n",
              "\n",
              "    .dataframe thead th {\n",
              "        text-align: right;\n",
              "    }\n",
              "</style>\n",
              "<table border=\"1\" class=\"dataframe\">\n",
              "  <thead>\n",
              "    <tr style=\"text-align: right;\">\n",
              "      <th></th>\n",
              "      <th>0</th>\n",
              "      <th>1</th>\n",
              "      <th>2</th>\n",
              "      <th>3</th>\n",
              "      <th>4</th>\n",
              "      <th>5</th>\n",
              "      <th>6</th>\n",
              "      <th>7</th>\n",
              "    </tr>\n",
              "  </thead>\n",
              "  <tbody>\n",
              "    <tr>\n",
              "      <th>count</th>\n",
              "      <td>4287.000000</td>\n",
              "      <td>4287.000000</td>\n",
              "      <td>4287.000000</td>\n",
              "      <td>4287.000000</td>\n",
              "      <td>4287.000000</td>\n",
              "      <td>4287.000000</td>\n",
              "      <td>4287.000000</td>\n",
              "      <td>4287.000000</td>\n",
              "    </tr>\n",
              "    <tr>\n",
              "      <th>mean</th>\n",
              "      <td>0.154080</td>\n",
              "      <td>0.094137</td>\n",
              "      <td>0.411697</td>\n",
              "      <td>0.390309</td>\n",
              "      <td>0.584984</td>\n",
              "      <td>0.535423</td>\n",
              "      <td>0.352856</td>\n",
              "      <td>0.426672</td>\n",
              "    </tr>\n",
              "    <tr>\n",
              "      <th>std</th>\n",
              "      <td>0.146558</td>\n",
              "      <td>0.085120</td>\n",
              "      <td>0.206371</td>\n",
              "      <td>0.069875</td>\n",
              "      <td>0.101645</td>\n",
              "      <td>0.062675</td>\n",
              "      <td>0.302093</td>\n",
              "      <td>0.171179</td>\n",
              "    </tr>\n",
              "    <tr>\n",
              "      <th>min</th>\n",
              "      <td>0.000000</td>\n",
              "      <td>0.000000</td>\n",
              "      <td>0.000000</td>\n",
              "      <td>0.000000</td>\n",
              "      <td>0.000000</td>\n",
              "      <td>0.000000</td>\n",
              "      <td>0.000000</td>\n",
              "      <td>0.000000</td>\n",
              "    </tr>\n",
              "    <tr>\n",
              "      <th>25%</th>\n",
              "      <td>0.052712</td>\n",
              "      <td>0.046431</td>\n",
              "      <td>0.249517</td>\n",
              "      <td>0.372620</td>\n",
              "      <td>0.544889</td>\n",
              "      <td>0.505512</td>\n",
              "      <td>0.082664</td>\n",
              "      <td>0.307906</td>\n",
              "    </tr>\n",
              "    <tr>\n",
              "      <th>50%</th>\n",
              "      <td>0.096430</td>\n",
              "      <td>0.067827</td>\n",
              "      <td>0.385839</td>\n",
              "      <td>0.401363</td>\n",
              "      <td>0.598626</td>\n",
              "      <td>0.538711</td>\n",
              "      <td>0.264678</td>\n",
              "      <td>0.422263</td>\n",
              "    </tr>\n",
              "    <tr>\n",
              "      <th>75%</th>\n",
              "      <td>0.207582</td>\n",
              "      <td>0.102012</td>\n",
              "      <td>0.556768</td>\n",
              "      <td>0.423889</td>\n",
              "      <td>0.634298</td>\n",
              "      <td>0.563266</td>\n",
              "      <td>0.588941</td>\n",
              "      <td>0.532669</td>\n",
              "    </tr>\n",
              "    <tr>\n",
              "      <th>max</th>\n",
              "      <td>1.000000</td>\n",
              "      <td>1.000000</td>\n",
              "      <td>1.000000</td>\n",
              "      <td>1.000000</td>\n",
              "      <td>1.000000</td>\n",
              "      <td>1.000000</td>\n",
              "      <td>1.000000</td>\n",
              "      <td>1.000000</td>\n",
              "    </tr>\n",
              "  </tbody>\n",
              "</table>\n",
              "</div>\n",
              "      <button class=\"colab-df-convert\" onclick=\"convertToInteractive('df-50a4ad59-3585-4623-af9e-7f0b8b97468b')\"\n",
              "              title=\"Convert this dataframe to an interactive table.\"\n",
              "              style=\"display:none;\">\n",
              "        \n",
              "  <svg xmlns=\"http://www.w3.org/2000/svg\" height=\"24px\"viewBox=\"0 0 24 24\"\n",
              "       width=\"24px\">\n",
              "    <path d=\"M0 0h24v24H0V0z\" fill=\"none\"/>\n",
              "    <path d=\"M18.56 5.44l.94 2.06.94-2.06 2.06-.94-2.06-.94-.94-2.06-.94 2.06-2.06.94zm-11 1L8.5 8.5l.94-2.06 2.06-.94-2.06-.94L8.5 2.5l-.94 2.06-2.06.94zm10 10l.94 2.06.94-2.06 2.06-.94-2.06-.94-.94-2.06-.94 2.06-2.06.94z\"/><path d=\"M17.41 7.96l-1.37-1.37c-.4-.4-.92-.59-1.43-.59-.52 0-1.04.2-1.43.59L10.3 9.45l-7.72 7.72c-.78.78-.78 2.05 0 2.83L4 21.41c.39.39.9.59 1.41.59.51 0 1.02-.2 1.41-.59l7.78-7.78 2.81-2.81c.8-.78.8-2.07 0-2.86zM5.41 20L4 18.59l7.72-7.72 1.47 1.35L5.41 20z\"/>\n",
              "  </svg>\n",
              "      </button>\n",
              "      \n",
              "  <style>\n",
              "    .colab-df-container {\n",
              "      display:flex;\n",
              "      flex-wrap:wrap;\n",
              "      gap: 12px;\n",
              "    }\n",
              "\n",
              "    .colab-df-convert {\n",
              "      background-color: #E8F0FE;\n",
              "      border: none;\n",
              "      border-radius: 50%;\n",
              "      cursor: pointer;\n",
              "      display: none;\n",
              "      fill: #1967D2;\n",
              "      height: 32px;\n",
              "      padding: 0 0 0 0;\n",
              "      width: 32px;\n",
              "    }\n",
              "\n",
              "    .colab-df-convert:hover {\n",
              "      background-color: #E2EBFA;\n",
              "      box-shadow: 0px 1px 2px rgba(60, 64, 67, 0.3), 0px 1px 3px 1px rgba(60, 64, 67, 0.15);\n",
              "      fill: #174EA6;\n",
              "    }\n",
              "\n",
              "    [theme=dark] .colab-df-convert {\n",
              "      background-color: #3B4455;\n",
              "      fill: #D2E3FC;\n",
              "    }\n",
              "\n",
              "    [theme=dark] .colab-df-convert:hover {\n",
              "      background-color: #434B5C;\n",
              "      box-shadow: 0px 1px 3px 1px rgba(0, 0, 0, 0.15);\n",
              "      filter: drop-shadow(0px 1px 2px rgba(0, 0, 0, 0.3));\n",
              "      fill: #FFFFFF;\n",
              "    }\n",
              "  </style>\n",
              "\n",
              "      <script>\n",
              "        const buttonEl =\n",
              "          document.querySelector('#df-50a4ad59-3585-4623-af9e-7f0b8b97468b button.colab-df-convert');\n",
              "        buttonEl.style.display =\n",
              "          google.colab.kernel.accessAllowed ? 'block' : 'none';\n",
              "\n",
              "        async function convertToInteractive(key) {\n",
              "          const element = document.querySelector('#df-50a4ad59-3585-4623-af9e-7f0b8b97468b');\n",
              "          const dataTable =\n",
              "            await google.colab.kernel.invokeFunction('convertToInteractive',\n",
              "                                                     [key], {});\n",
              "          if (!dataTable) return;\n",
              "\n",
              "          const docLinkHtml = 'Like what you see? Visit the ' +\n",
              "            '<a target=\"_blank\" href=https://colab.research.google.com/notebooks/data_table.ipynb>data table notebook</a>'\n",
              "            + ' to learn more about interactive tables.';\n",
              "          element.innerHTML = '';\n",
              "          dataTable['output_type'] = 'display_data';\n",
              "          await google.colab.output.renderOutput(dataTable, element);\n",
              "          const docLink = document.createElement('div');\n",
              "          docLink.innerHTML = docLinkHtml;\n",
              "          element.appendChild(docLink);\n",
              "        }\n",
              "      </script>\n",
              "    </div>\n",
              "  </div>\n",
              "  "
            ]
          },
          "metadata": {},
          "execution_count": 12
        }
      ]
    },
    {
      "cell_type": "code",
      "source": [
        "#splitting the dataset for training the model and validating\n",
        "from sklearn.model_selection import train_test_split\n",
        "x_train,x_test,y_train,y_test=train_test_split(x,y,random_state=42,test_size=0.2)"
      ],
      "metadata": {
        "id": "Jzn6Uy4l1OzP"
      },
      "execution_count": 13,
      "outputs": []
    },
    {
      "cell_type": "markdown",
      "source": [
        "2. Modelling"
      ],
      "metadata": {
        "id": "fPohN2jp1qvF"
      }
    },
    {
      "cell_type": "code",
      "source": [
        "from tensorflow.keras import models,layers\n",
        "from tensorflow.keras.layers import Dense,Dropout"
      ],
      "metadata": {
        "id": "u_bh7VzS1ihS"
      },
      "execution_count": 14,
      "outputs": []
    },
    {
      "cell_type": "code",
      "source": [
        "model1=models.Sequential()\n",
        "model1.add(Dense(8,input_shape=(8,),activation='relu'))\n",
        "model1.add(Dense(64,activation='relu'))\n",
        "model1.add(Dense(64,activation='relu'))\n",
        "model1.add(Dense(32,activation='relu'))\n",
        "model1.add(Dense(1,activation='sigmoid'))"
      ],
      "metadata": {
        "id": "dJDzUqr61tb4"
      },
      "execution_count": 15,
      "outputs": []
    },
    {
      "cell_type": "code",
      "source": [
        "model1.compile(optimizer='adam',loss='binary_crossentropy',metrics=['accuracy','Precision','Recall'])\n",
        "model1.fit(x_train,y_train,epochs=5,batch_size=16)"
      ],
      "metadata": {
        "colab": {
          "base_uri": "https://localhost:8080/"
        },
        "id": "0IrTtebrlTNl",
        "outputId": "4ce63520-b5ed-4732-bf52-bbacb3c82c7c"
      },
      "execution_count": 16,
      "outputs": [
        {
          "output_type": "stream",
          "name": "stdout",
          "text": [
            "Epoch 1/5\n",
            "215/215 [==============================] - 2s 3ms/step - loss: 0.5355 - accuracy: 0.7474 - precision: 0.7934 - recall: 0.6661\n",
            "Epoch 2/5\n",
            "215/215 [==============================] - 1s 3ms/step - loss: 0.4833 - accuracy: 0.7719 - precision: 0.8033 - recall: 0.7176\n",
            "Epoch 3/5\n",
            "215/215 [==============================] - 1s 3ms/step - loss: 0.4718 - accuracy: 0.7737 - precision: 0.7974 - recall: 0.7311\n",
            "Epoch 4/5\n",
            "215/215 [==============================] - 1s 3ms/step - loss: 0.4652 - accuracy: 0.7722 - precision: 0.7905 - recall: 0.7381\n",
            "Epoch 5/5\n",
            "215/215 [==============================] - 1s 3ms/step - loss: 0.4544 - accuracy: 0.7699 - precision: 0.7812 - recall: 0.7469\n"
          ]
        },
        {
          "output_type": "execute_result",
          "data": {
            "text/plain": [
              "<keras.callbacks.History at 0x7fc6386e8e50>"
            ]
          },
          "metadata": {},
          "execution_count": 16
        }
      ]
    },
    {
      "cell_type": "code",
      "source": [
        "loss,accuracy,precision,recall=model1.evaluate(x_test,y_test)"
      ],
      "metadata": {
        "colab": {
          "base_uri": "https://localhost:8080/"
        },
        "id": "MTZ3gpOglxeG",
        "outputId": "b82be96e-de87-4d8b-ae95-d9392201e623"
      },
      "execution_count": 17,
      "outputs": [
        {
          "output_type": "stream",
          "name": "stdout",
          "text": [
            "27/27 [==============================] - 0s 2ms/step - loss: 0.4525 - accuracy: 0.7879 - precision: 0.7822 - recall: 0.7506\n"
          ]
        }
      ]
    },
    {
      "cell_type": "code",
      "source": [
        "f1_score=(2*precision*recall)/(precision+recall)\n",
        "f1_score"
      ],
      "metadata": {
        "colab": {
          "base_uri": "https://localhost:8080/"
        },
        "id": "-FRuvXWXoWwK",
        "outputId": "9973cf06-31b7-4c86-9a64-1a08fd2afa41"
      },
      "execution_count": 18,
      "outputs": [
        {
          "output_type": "execute_result",
          "data": {
            "text/plain": [
              "0.7660668403005358"
            ]
          },
          "metadata": {},
          "execution_count": 18
        }
      ]
    },
    {
      "cell_type": "markdown",
      "source": [
        "3. Hyperparameter Tuning"
      ],
      "metadata": {
        "id": "2WtsqJrVsylD"
      }
    },
    {
      "cell_type": "code",
      "source": [
        "def tune_nn_model( num_hidden_units_1, num_hidden_units_2, batch_size):\n",
        "  model1=models.Sequential()\n",
        "  model1.add(Dense(8,input_shape=(8,),activation='relu'))\n",
        "  model1.add(Dense(num_hidden_units_1,activation='relu'))\n",
        "  model1.add(Dense(num_hidden_units_2,activation='relu'))\n",
        "  model1.add(Dense(32,activation='relu'))\n",
        "  model1.add(Dense(1,activation='sigmoid'))\n",
        "  model1.compile(optimizer='adam',loss='binary_crossentropy',metrics=['accuracy','Precision','Recall'])\n",
        "  model1.fit(x_train,y_train,epochs=5,batch_size=batch_size)\n",
        "  loss,accuracy,precision,recall=model1.evaluate(x_test,y_test)\n",
        "  f1_score=(2*precision*recall)/(precision+recall)\n",
        "  return accuracy,f1_score"
      ],
      "metadata": {
        "id": "B68oezCZsKUv"
      },
      "execution_count": 44,
      "outputs": []
    },
    {
      "cell_type": "code",
      "source": [
        "# define search space\n",
        "space={\"num_hidden_units_1\":[16,32], \"num_hidden_units_2\":[16,32], \"batch_size\":[2,3]}"
      ],
      "metadata": {
        "id": "C6nEou8oLfgq"
      },
      "execution_count": 45,
      "outputs": []
    },
    {
      "cell_type": "code",
      "source": [
        "accuracy_dict={}\n",
        "i=1\n",
        "for m in space['num_hidden_units_1']:\n",
        "    for n in space['num_hidden_units_2']:\n",
        "        for o in space['batch_size']:\n",
        "            accuracy,f1_score=tune_nn_model(num_hidden_units_1=m, num_hidden_units_2=n,batch_size=o)\n",
        "            accuracy_dict[i]=[m,m,o,accuracy,f1_score]\n",
        "            i=i+1\n"
      ],
      "metadata": {
        "colab": {
          "base_uri": "https://localhost:8080/"
        },
        "id": "JTzylE_dLqQW",
        "outputId": "7618cca9-057b-4ca3-bbbd-0b456be9d0fa"
      },
      "execution_count": 46,
      "outputs": [
        {
          "output_type": "stream",
          "name": "stdout",
          "text": [
            "Epoch 1/5\n",
            "1715/1715 [==============================] - 5s 3ms/step - loss: 0.5145 - accuracy: 0.7492 - precision: 0.7522 - recall: 0.7399\n",
            "Epoch 2/5\n",
            "1715/1715 [==============================] - 4s 3ms/step - loss: 0.4528 - accuracy: 0.7766 - precision: 0.7789 - recall: 0.7698\n",
            "Epoch 3/5\n",
            "1715/1715 [==============================] - 5s 3ms/step - loss: 0.4448 - accuracy: 0.7731 - precision: 0.7866 - recall: 0.7469\n",
            "Epoch 4/5\n",
            "1715/1715 [==============================] - 5s 3ms/step - loss: 0.4405 - accuracy: 0.7772 - precision: 0.7964 - recall: 0.7422\n",
            "Epoch 5/5\n",
            "1715/1715 [==============================] - 5s 3ms/step - loss: 0.4381 - accuracy: 0.7737 - precision: 0.7941 - recall: 0.7364\n",
            "27/27 [==============================] - 0s 2ms/step - loss: 0.4310 - accuracy: 0.7821 - precision: 0.7793 - recall: 0.7380\n",
            "Epoch 1/5\n",
            "1143/1143 [==============================] - 4s 2ms/step - loss: 0.5637 - accuracy: 0.7049 - precision: 0.6938 - recall: 0.7288\n",
            "Epoch 2/5\n",
            "1143/1143 [==============================] - 3s 2ms/step - loss: 0.4922 - accuracy: 0.7556 - precision: 0.7827 - recall: 0.7047\n",
            "Epoch 3/5\n",
            "1143/1143 [==============================] - 3s 3ms/step - loss: 0.4680 - accuracy: 0.7693 - precision: 0.7806 - recall: 0.7463\n",
            "Epoch 4/5\n",
            "1143/1143 [==============================] - 3s 2ms/step - loss: 0.4599 - accuracy: 0.7725 - precision: 0.7913 - recall: 0.7376\n",
            "Epoch 5/5\n",
            "1143/1143 [==============================] - 3s 2ms/step - loss: 0.4532 - accuracy: 0.7699 - precision: 0.7809 - recall: 0.7475\n",
            "27/27 [==============================] - 0s 2ms/step - loss: 0.4618 - accuracy: 0.7692 - precision: 0.8727 - recall: 0.5869\n",
            "Epoch 1/5\n",
            "1715/1715 [==============================] - 7s 3ms/step - loss: 0.5306 - accuracy: 0.7378 - precision: 0.8176 - recall: 0.6093\n",
            "Epoch 2/5\n",
            "1715/1715 [==============================] - 5s 3ms/step - loss: 0.4693 - accuracy: 0.7655 - precision: 0.8086 - recall: 0.6930\n",
            "Epoch 3/5\n",
            "1715/1715 [==============================] - 5s 3ms/step - loss: 0.4498 - accuracy: 0.7824 - precision: 0.8231 - recall: 0.7170\n",
            "Epoch 4/5\n",
            "1715/1715 [==============================] - 5s 3ms/step - loss: 0.4397 - accuracy: 0.7830 - precision: 0.8225 - recall: 0.7194\n",
            "Epoch 5/5\n",
            "1715/1715 [==============================] - 4s 3ms/step - loss: 0.4365 - accuracy: 0.7816 - precision: 0.8123 - recall: 0.7299\n",
            "27/27 [==============================] - 0s 2ms/step - loss: 0.4286 - accuracy: 0.7937 - precision: 0.7657 - recall: 0.7985\n",
            "Epoch 1/5\n",
            "1143/1143 [==============================] - 5s 4ms/step - loss: 0.5387 - accuracy: 0.7200 - precision: 0.7260 - recall: 0.7030\n",
            "Epoch 2/5\n",
            "1143/1143 [==============================] - 3s 3ms/step - loss: 0.4758 - accuracy: 0.7644 - precision: 0.7975 - recall: 0.7059\n",
            "Epoch 3/5\n",
            "1143/1143 [==============================] - 3s 3ms/step - loss: 0.4651 - accuracy: 0.7714 - precision: 0.7890 - recall: 0.7381\n",
            "Epoch 4/5\n",
            "1143/1143 [==============================] - 3s 3ms/step - loss: 0.4597 - accuracy: 0.7734 - precision: 0.7818 - recall: 0.7557\n",
            "Epoch 5/5\n",
            "1143/1143 [==============================] - 3s 3ms/step - loss: 0.4517 - accuracy: 0.7734 - precision: 0.7828 - recall: 0.7540\n",
            "27/27 [==============================] - 0s 2ms/step - loss: 0.4474 - accuracy: 0.7879 - precision: 0.7603 - recall: 0.7909\n",
            "Epoch 1/5\n",
            "1715/1715 [==============================] - 5s 3ms/step - loss: 0.5258 - accuracy: 0.7533 - precision: 0.7758 - recall: 0.7094\n",
            "Epoch 2/5\n",
            "1715/1715 [==============================] - 5s 3ms/step - loss: 0.4637 - accuracy: 0.7696 - precision: 0.7885 - recall: 0.7340\n",
            "Epoch 3/5\n",
            "1715/1715 [==============================] - 5s 3ms/step - loss: 0.4498 - accuracy: 0.7737 - precision: 0.7872 - recall: 0.7475\n",
            "Epoch 4/5\n",
            "1715/1715 [==============================] - 5s 3ms/step - loss: 0.4414 - accuracy: 0.7787 - precision: 0.7962 - recall: 0.7463\n",
            "Epoch 5/5\n",
            "1715/1715 [==============================] - 4s 3ms/step - loss: 0.4398 - accuracy: 0.7754 - precision: 0.7952 - recall: 0.7393\n",
            "27/27 [==============================] - 0s 2ms/step - loss: 0.4456 - accuracy: 0.7704 - precision: 0.7404 - recall: 0.7758\n",
            "Epoch 1/5\n",
            "1143/1143 [==============================] - 4s 3ms/step - loss: 0.5140 - accuracy: 0.7472 - precision: 0.7497 - recall: 0.7387\n",
            "Epoch 2/5\n",
            "1143/1143 [==============================] - 3s 2ms/step - loss: 0.4596 - accuracy: 0.7687 - precision: 0.7867 - recall: 0.7346\n",
            "Epoch 3/5\n",
            "1143/1143 [==============================] - 3s 3ms/step - loss: 0.4500 - accuracy: 0.7687 - precision: 0.7835 - recall: 0.7399\n",
            "Epoch 4/5\n",
            "1143/1143 [==============================] - 3s 3ms/step - loss: 0.4458 - accuracy: 0.7737 - precision: 0.7997 - recall: 0.7276\n",
            "Epoch 5/5\n",
            "1143/1143 [==============================] - 3s 3ms/step - loss: 0.4440 - accuracy: 0.7775 - precision: 0.8010 - recall: 0.7358\n",
            "27/27 [==============================] - 0s 3ms/step - loss: 0.4378 - accuracy: 0.7809 - precision: 0.7977 - recall: 0.7053\n",
            "Epoch 1/5\n",
            "1715/1715 [==============================] - 6s 3ms/step - loss: 0.5352 - accuracy: 0.7410 - precision: 0.7814 - recall: 0.6661\n",
            "Epoch 2/5\n",
            "1715/1715 [==============================] - 5s 3ms/step - loss: 0.4724 - accuracy: 0.7719 - precision: 0.8041 - recall: 0.7165\n",
            "Epoch 3/5\n",
            "1715/1715 [==============================] - 5s 3ms/step - loss: 0.4563 - accuracy: 0.7746 - precision: 0.8001 - recall: 0.7293\n",
            "Epoch 4/5\n",
            "1715/1715 [==============================] - 5s 3ms/step - loss: 0.4516 - accuracy: 0.7795 - precision: 0.8050 - recall: 0.7352\n",
            "Epoch 5/5\n",
            "1715/1715 [==============================] - 5s 3ms/step - loss: 0.4457 - accuracy: 0.7766 - precision: 0.7999 - recall: 0.7352\n",
            "27/27 [==============================] - 0s 2ms/step - loss: 0.4466 - accuracy: 0.7774 - precision: 0.8179 - recall: 0.6675\n",
            "Epoch 1/5\n",
            "1143/1143 [==============================] - 4s 2ms/step - loss: 0.5206 - accuracy: 0.7477 - precision: 0.7713 - recall: 0.7012\n",
            "Epoch 2/5\n",
            "1143/1143 [==============================] - 3s 3ms/step - loss: 0.4584 - accuracy: 0.7699 - precision: 0.7924 - recall: 0.7288\n",
            "Epoch 3/5\n",
            "1143/1143 [==============================] - 3s 2ms/step - loss: 0.4491 - accuracy: 0.7731 - precision: 0.8026 - recall: 0.7217\n",
            "Epoch 4/5\n",
            "1143/1143 [==============================] - 3s 3ms/step - loss: 0.4456 - accuracy: 0.7784 - precision: 0.8150 - recall: 0.7176\n",
            "Epoch 5/5\n",
            "1143/1143 [==============================] - 3s 3ms/step - loss: 0.4408 - accuracy: 0.7801 - precision: 0.8120 - recall: 0.7264\n",
            "27/27 [==============================] - 0s 2ms/step - loss: 0.4265 - accuracy: 0.8007 - precision: 0.8343 - recall: 0.7103\n"
          ]
        }
      ]
    },
    {
      "cell_type": "code",
      "source": [
        "accuracy_dict"
      ],
      "metadata": {
        "colab": {
          "base_uri": "https://localhost:8080/"
        },
        "id": "yInUi8ojMysY",
        "outputId": "5c55cd36-691f-4980-ebcb-823181ce5da3"
      },
      "execution_count": 47,
      "outputs": [
        {
          "output_type": "execute_result",
          "data": {
            "text/plain": [
              "{1: [16, 16, 2, 0.7820512652397156, 0.758085385526122],\n",
              " 2: [16, 16, 3, 0.7692307829856873, 0.7018072342716116],\n",
              " 3: [16, 16, 2, 0.7937062978744507, 0.7817509180188478],\n",
              " 4: [16, 16, 3, 0.7878788113594055, 0.7753086498906165],\n",
              " 5: [32, 32, 2, 0.7703962922096252, 0.7576875918158641],\n",
              " 6: [32, 32, 3, 0.7808857560157776, 0.7486630921585807],\n",
              " 7: [32, 32, 2, 0.7773892879486084, 0.7350901483668245],\n",
              " 8: [32, 32, 3, 0.8006992936134338, 0.767346935493986]}"
            ]
          },
          "metadata": {},
          "execution_count": 47
        }
      ]
    },
    {
      "cell_type": "markdown",
      "source": [
        "The metrics have improved for the last run after hyperparameter tuning. It gives an accuracy of 80% and F1 Score of 77%."
      ],
      "metadata": {
        "id": "lo2EAwGhNync"
      }
    },
    {
      "cell_type": "code",
      "source": [],
      "metadata": {
        "id": "GlvIa5ArL4Li"
      },
      "execution_count": null,
      "outputs": []
    }
  ]
}